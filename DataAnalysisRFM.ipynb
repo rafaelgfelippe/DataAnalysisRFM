{
 "cells": [
  {
   "cell_type": "markdown",
   "id": "a2170ff5",
   "metadata": {},
   "source": [
    "# Segmentação de Clientes - RFM Analysis\n",
    "\n",
    "Segmentação de clientes para elaboração de campanhas customizadas de Marketing através da análise RFM.\n",
    "\n",
    "Esse é um projeto de análise de dados. \n",
    "\n",
    "Disponível também em meu [github](https://github.com/rafaelgfelippe/DataAnalysisRFM).\n",
    "\n",
    "O conjunto de dados utilizado está disponível [neste link](https://www.kaggle.com/datasets/rodsaldanha/arketing-campaign)."
   ]
  },
  {
   "cell_type": "markdown",
   "id": "46ae299c",
   "metadata": {},
   "source": [
    "## 1. Entendimento do Negócio"
   ]
  },
  {
   "cell_type": "markdown",
   "id": "89a8a12a",
   "metadata": {},
   "source": [
    "A BestShop é uma empresa em expansão que comercializa produtos, principalmente alimentícios, através de lojas físicas e de maneira virtual.\n",
    "\n",
    "Visando otimizar ainda mais suas vendas, a empresa contratou um consultor em ciência de dados para realizar a segmentação de seus clientes. O principal objetivo desse projeto é identificar padrões de consumo para realizar campanhas de Marketing customizadas e consequentemente mais assertivas, visto que atualmente, as taxas de conversão das campanhas são baixas. \n",
    "\n",
    "Durante a reunião de negócios, vários métodos de como realizar a segmentação dos clientes foram debatidos. Ao final, foi decidido que para o primeiro ciclo do projeto, o cientista de dados deverá utilizar a análise RFM e assim, sugerir recomendações de ações para o time de Marketing."
   ]
  },
  {
   "cell_type": "markdown",
   "id": "0b0841b1",
   "metadata": {},
   "source": [
    "### 1.1 Dicionário de Dados"
   ]
  },
  {
   "cell_type": "markdown",
   "id": "a236757c",
   "metadata": {},
   "source": [
    "Em relação ao conjunto de dados, as seguintes informações foram disponibilizadas:"
   ]
  },
  {
   "cell_type": "markdown",
   "id": "27499c53",
   "metadata": {},
   "source": [
    "<table>\n",
    "\t<tr>\n",
    "\t    <th>Categoria</th>\n",
    "\t    <th>Variáveis</th>\n",
    "\t    <th>Descrição</th>  \n",
    "\t</tr >\n",
    "\t<tr >\n",
    "\t    <td rowspan=\"10\">Clientes</td>\n",
    "\t    <td>ID</td>\n",
    "\t    <td>Identificação do cliente</td>\n",
    "\t</tr>\n",
    "\t<tr>\n",
    "\t    <td>Year_Birth</td>\n",
    "\t    <td>Ano de nascimento</td>\n",
    "\t</tr>\n",
    "\t<tr>\n",
    "\t    <td>Education</td>\n",
    "\t    <td>Nível educacional</td>\n",
    "\t</tr>\n",
    "\t<tr>\n",
    "\t    <td>Marital_Status</td>\n",
    "\t    <td>Estado civil</td>\n",
    "\t</tr>\n",
    "\t<tr><td>Income</td>\n",
    "\t    <td>Renda familiar anual</td>\n",
    "\t</tr>\n",
    "\t<tr>\n",
    "\t    <td>Kidhome</td>\n",
    "\t    <td>Número de crianças que moram na casa</td>\n",
    "\t</tr>\n",
    "\t<tr>\n",
    "\t    <td>Teenhome</td>\n",
    "\t    <td>Número de adolescentes que moram na casa</td>\n",
    "\t</tr>\n",
    "\t<tr>\n",
    "\t    <td>Dt_Customer</td>\n",
    "\t    <td>Data que o consumidor se inscreveu na loja</td>\n",
    "\t</tr>\n",
    "\t<tr>\n",
    "\t    <td>Recency</td>\n",
    "\t    <td>Número de dias desde a última compra do cliente</td>\n",
    "\t</tr>\n",
    "\t<tr>\n",
    "\t    <td >Complain</td>\n",
    "\t    <td>1 se o cliente reclamar nos últimos 2 anos, 0 caso contrário</td>\n",
    "\t</tr>\n",
    "    <tr >\n",
    "\t    <td rowspan=\"6\">Produtos</td>\n",
    "\t    <td>MntWines</td>\n",
    "\t    <td>Quantidade gasta em vinho nos últimos 2 anos</td>\n",
    "\t</tr>\n",
    "\t<tr>\n",
    "\t    <td>MntFruits</td>\n",
    "\t    <td>Quantidade gasta com frutas nos últimos 2 anos</td>\n",
    "\t</tr>\n",
    "\t<tr>\n",
    "\t    <td>MntMeatProducts</td>\n",
    "\t    <td>Quantidade gasta com carne nos últimos 2 anos</td>\n",
    "\t</tr>\n",
    "\t<tr>\n",
    "\t    <td>MntFishProduct</td>\n",
    "\t    <td>Quantidade gasta em peixe nos últimos 2 anos</td>\n",
    "\t</tr>\n",
    "\t<tr><td>MntSweetProducts</td>\n",
    "\t    <td>Quantia gasta em doces nos últimos 2 anos</td>\n",
    "\t</tr>\n",
    "\t<tr>\n",
    "\t    <td>MntGoldProds</td>\n",
    "\t    <td>Quantia gasta em ouro nos últimos 2 anos</td>\n",
    "\t</tr>\n",
    "    <tr >\n",
    "\t    <td rowspan=\"7\">Promoção</td>\n",
    "\t    <td>NumDealsPurchases</td>\n",
    "\t    <td>Número de compras feitas com desconto</td>\n",
    "\t</tr>\n",
    "\t<tr>\n",
    "\t    <td>AcceptedCmp1</td>\n",
    "\t    <td>1 se o cliente aceitou a oferta na 1° campanha, 0 caso contrário</td>\n",
    "\t</tr>\n",
    "\t<tr>\n",
    "\t    <td>AcceptedCmp2</td>\n",
    "\t    <td>1 se o cliente aceitou a oferta na 2° campanha, 0 caso contrário</td>\n",
    "\t</tr>\n",
    "\t<tr>\n",
    "\t    <td>AcceptedCmp3</td>\n",
    "\t    <td>1 se o cliente aceitou a oferta na 3° campanha, 0 caso contrário</td>\n",
    "\t</tr>\n",
    "\t<tr>\n",
    "        <td>AcceptedCmp4</td>\n",
    "\t    <td>1 se o cliente aceitou a oferta na 4° campanha, 0 caso contrário</td>\n",
    "\t</tr>\n",
    "\t<tr>\n",
    "\t    <td>AcceptedCmp5</td>\n",
    "\t    <td>1 se o cliente aceitou a oferta na 5° campanha, 0 caso contrário</td>\n",
    "\t</tr>\n",
    "    <tr>\n",
    "\t    <td>Response</td>\n",
    "\t    <td>1 se o cliente aceitou a oferta na última campanha, 0 caso contrário</td>\n",
    "\t</tr>\n",
    "    <tr>\n",
    "        <td rowspan=\"4\">Local de Compra</td>\n",
    "\t    <td>NumWebPurchases</td>\n",
    "\t    <td>Número de compras feitas por meio do site da empresa</td>\n",
    "\t</tr>\n",
    "\t<tr>\n",
    "\t    <td>NumCatalogPurchases</td>\n",
    "\t    <td>Número de compras feitas usando um catálogo</td>\n",
    "\t</tr>\n",
    "\t<tr>\n",
    "\t    <td>NumStorePurchases</td>\n",
    "\t    <td>Número de compras feitas diretamente nas lojas</td>\n",
    "\t</tr>\n",
    "\t<tr>\n",
    "\t    <td>NumWebVisitsMonth</td>\n",
    "\t    <td>Número de visitas ao site da empresa no último mês</td>\n",
    "\t</tr>\n",
    "    <tr>\n",
    "</table>"
   ]
  },
  {
   "cell_type": "markdown",
   "id": "b2b93dee",
   "metadata": {},
   "source": [
    "### 1.2 Estratégia da Solução"
   ]
  },
  {
   "cell_type": "markdown",
   "id": "9764f83c",
   "metadata": {},
   "source": [
    "Como estratégia para a solução do projeto, definimos as seguintes etapas:\n",
    "\n",
    "- **1. Entendimento do Negócio:** nesta etapa inicial, o principal objetivo é compreender o problema de negócio e as necessidades do cliente.\n",
    "\n",
    "\n",
    "- **2. Entendimento dos Dados:** iremos tratar as principais inconsistências encontradas nos dados, e realizar uma análise exploratória a fim de gerar insights sobre o negócio.\n",
    "\n",
    "\n",
    "- **3. Engenharia de Atributos:** com os dados existentes, criaremos variáveis a fim de extrair novas informações dos dados.\n",
    "\n",
    "\n",
    "- **4. Perguntas e Hipóteses de Negócio:** ainda como forma de explorar os dados, criaremos perguntas e hipóteses relacionadas ao problema de negócio.\n",
    "\n",
    "\n",
    "- **5. Análise RFM:** através da análise RFM, iremos segmentar os clientes da empresa.\n",
    "\n",
    "\n",
    "- **6. Recomendações para Área de Marketing:** nessa etapa, iremos sugerir algumas recomendações para a área de Marketing."
   ]
  },
  {
   "cell_type": "markdown",
   "id": "a667b9c7",
   "metadata": {},
   "source": [
    "## 2. Entendimento dos Dados"
   ]
  },
  {
   "cell_type": "markdown",
   "id": "624c41bc",
   "metadata": {},
   "source": [
    "Vamos iniciar o projeto carregando as bibliotecas necessárias e os conjuntos de dados."
   ]
  },
  {
   "cell_type": "markdown",
   "id": "f1273372",
   "metadata": {},
   "source": [
    "### 2.1 Bibliotecas Necessárias"
   ]
  },
  {
   "cell_type": "code",
   "execution_count": null,
   "id": "e5ca5c75",
   "metadata": {},
   "outputs": [],
   "source": [
    "# Filtragem das mensagens de avisos.\n",
    "import warnings\n",
    "warnings.filterwarnings('ignore') \n",
    "\n",
    "# Manipulação de dados.\n",
    "from datetime import datetime\n",
    "import numpy as np\n",
    "import pandas as pd\n",
    "\n",
    "# Criação de gráficos.\n",
    "import matplotlib.pyplot as plt\n",
    "import seaborn as sns"
   ]
  },
  {
   "cell_type": "code",
   "execution_count": null,
   "id": "676d3154",
   "metadata": {},
   "outputs": [],
   "source": [
    "# Versão da linguagem Python.\n",
    "from platform import python_version\n",
    "print('Versão da linguagem Python:', python_version())"
   ]
  },
  {
   "cell_type": "code",
   "execution_count": null,
   "id": "fc7c3452",
   "metadata": {},
   "outputs": [],
   "source": [
    "# Versão dos pacotes.\n",
    "%reload_ext watermark\n",
    "%watermark --iversions"
   ]
  },
  {
   "cell_type": "code",
   "execution_count": null,
   "id": "5dbf7da1",
   "metadata": {},
   "outputs": [],
   "source": [
    "# Configurações do notebook.\n",
    "\n",
    "# Plotagens.\n",
    "from matplotlib import rcParams\n",
    "rcParams['figure.figsize'] = 15, 10\n",
    "rcParams['lines.linewidth'] = 1\n",
    "\n",
    "# Estilo dos gráficos.\n",
    "plt.style.use('ggplot')\n",
    "\n",
    "# Configuração Dataframe.\n",
    "pd.set_option('display.max_columns', None)"
   ]
  },
  {
   "cell_type": "markdown",
   "id": "acb2d189",
   "metadata": {},
   "source": [
    "### 2.2 Tratamento Inicial dos Dados"
   ]
  },
  {
   "cell_type": "markdown",
   "id": "3109f217",
   "metadata": {},
   "source": [
    "Nessa etapa, nosso objetivo é realizar uma análise geral nos dados a fim de tratar possíveis inconsistências."
   ]
  },
  {
   "cell_type": "code",
   "execution_count": null,
   "id": "2614b5fa",
   "metadata": {},
   "outputs": [],
   "source": [
    "# Carregando o conjunto de dados.\n",
    "df = pd.read_csv('data/marketing_campaign.csv', sep = ';')"
   ]
  },
  {
   "cell_type": "markdown",
   "id": "0529c5be",
   "metadata": {},
   "source": [
    "Criar uma cópia do dataset é uma boa prática para não perdermos o conteúdo original durante a manipulação dos dados."
   ]
  },
  {
   "cell_type": "code",
   "execution_count": null,
   "id": "e48c051f",
   "metadata": {},
   "outputs": [],
   "source": [
    "# Cópia do dataset.\n",
    "df1 = df"
   ]
  },
  {
   "cell_type": "code",
   "execution_count": null,
   "id": "6556a90b",
   "metadata": {},
   "outputs": [],
   "source": [
    "# Visualizando o conjunto de dados.\n",
    "df1.head()"
   ]
  },
  {
   "cell_type": "code",
   "execution_count": null,
   "id": "6dccfd55",
   "metadata": {},
   "outputs": [],
   "source": [
    "# Dimensão do dataframe.\n",
    "print('Número de registros: {}'.format(df1.shape[0]))\n",
    "print('Número de variáveis: {}'.format(df1.shape[1]))"
   ]
  },
  {
   "cell_type": "code",
   "execution_count": null,
   "id": "bee1a4a2",
   "metadata": {},
   "outputs": [],
   "source": [
    "# Informações do dataframe.\n",
    "df1.info()"
   ]
  },
  {
   "cell_type": "code",
   "execution_count": null,
   "id": "f20397ee",
   "metadata": {},
   "outputs": [],
   "source": [
    "# Registros ausentes.\n",
    "\n",
    "# Obtendo os dados.\n",
    "valores_ausentes = df1.isnull().sum() \n",
    "contatem_total = df1.isnull().count()\n",
    "porcentagem = round(valores_ausentes / contatem_total * 100, 2) \n",
    "\n",
    "# Criando o dataframe.\n",
    "df_ausentes = pd.DataFrame({'Total de Valores Ausentes': valores_ausentes, 'Porcentagem': porcentagem})\n",
    "df_ausentes"
   ]
  },
  {
   "cell_type": "markdown",
   "id": "68a6b7af",
   "metadata": {},
   "source": [
    "A variável **`Income`** possui 24 valores ausentes, o que representa pouco mais de 1% dos dados.\n",
    "\n",
    "Como são poucos registros, podemos excluí-los da análise."
   ]
  },
  {
   "cell_type": "code",
   "execution_count": null,
   "id": "d58fd9b4",
   "metadata": {},
   "outputs": [],
   "source": [
    "# Dimensão original.\n",
    "shape_original = df1.shape\n",
    "print('Antes: ', shape_original)\n",
    "\n",
    "# Excluindo os registros inválidos.\n",
    "df1.dropna(subset = ['Income'], inplace = True)\n",
    "\n",
    "# Dimensão após o tratamento.\n",
    "shape_tratado = df1.shape\n",
    "print('Depois: ', shape_tratado)"
   ]
  },
  {
   "cell_type": "code",
   "execution_count": null,
   "id": "e1e017c9",
   "metadata": {},
   "outputs": [],
   "source": [
    "# Registros únicos de cada variável.\n",
    "for col in df1:\n",
    "    print(f'''Registros únicos da Variável {col}:''')\n",
    "    print(df1[col].nunique())\n",
    "    print()"
   ]
  },
  {
   "cell_type": "markdown",
   "id": "2caac6b6",
   "metadata": {},
   "source": [
    "As variáveis **`Z_CostContact`** e **`Z_Revenue`** possuem apenas um valor único, sendo assim, iremos excluí-las."
   ]
  },
  {
   "cell_type": "code",
   "execution_count": null,
   "id": "2a30c90c",
   "metadata": {},
   "outputs": [],
   "source": [
    "# Excluindo as variáveis.\n",
    "df1 = df1.drop(['Z_CostContact', 'Z_Revenue'], axis = 1)"
   ]
  },
  {
   "cell_type": "code",
   "execution_count": null,
   "id": "935bd780",
   "metadata": {},
   "outputs": [],
   "source": [
    "# Cópia do dataframe.\n",
    "df2 = df1.copy()"
   ]
  },
  {
   "cell_type": "markdown",
   "id": "dcc8f93e",
   "metadata": {},
   "source": [
    "Realizamos uma análise geral nos dados tratando as principais inconsistências observadas, agora, partiremos para uma análise mais detalhada."
   ]
  },
  {
   "cell_type": "markdown",
   "id": "60b3ac96",
   "metadata": {},
   "source": [
    "### 2.3 Análise Exploratória"
   ]
  },
  {
   "cell_type": "markdown",
   "id": "b224f315",
   "metadata": {},
   "source": [
    "Baseado no dicionário de dados, vamos separar as variáveis."
   ]
  },
  {
   "cell_type": "code",
   "execution_count": null,
   "id": "ec2161a0",
   "metadata": {},
   "outputs": [],
   "source": [
    "# Identificação dos clientes.\n",
    "id_clientes = ['ID']"
   ]
  },
  {
   "cell_type": "code",
   "execution_count": null,
   "id": "8728cfa4",
   "metadata": {},
   "outputs": [],
   "source": [
    "# Variável periódica.\n",
    "data = ['Dt_Customer']\n",
    "\n",
    "# Convertendo o tipo da variável.\n",
    "df2['Dt_Customer'] = pd.to_datetime(df2['Dt_Customer'])"
   ]
  },
  {
   "cell_type": "code",
   "execution_count": null,
   "id": "7c839aa1",
   "metadata": {},
   "outputs": [],
   "source": [
    "# Variáveis numéricas.\n",
    "nums = ['Year_Birth',\n",
    "        'Income',\n",
    "        'Kidhome',\n",
    "        'Teenhome',\n",
    "        'Recency',\n",
    "        'MntWines',\n",
    "        'MntFruits',\n",
    "        'MntMeatProducts',\n",
    "        'MntFishProducts',\n",
    "        'MntSweetProducts',\n",
    "        'MntGoldProds',\n",
    "        'NumDealsPurchases',\n",
    "        'NumWebPurchases',\n",
    "        'NumCatalogPurchases',\n",
    "        'NumStorePurchases',\n",
    "        'NumWebVisitsMonth']"
   ]
  },
  {
   "cell_type": "code",
   "execution_count": null,
   "id": "e3b97d2c",
   "metadata": {},
   "outputs": [],
   "source": [
    "# Variáveis categóricas.\n",
    "cats = ['Education',\n",
    "        'Marital_Status',\n",
    "        'AcceptedCmp1',\n",
    "        'AcceptedCmp2',\n",
    "        'AcceptedCmp3',\n",
    "        'AcceptedCmp4',\n",
    "        'AcceptedCmp5',\n",
    "        'Complain',\n",
    "        'Response']"
   ]
  },
  {
   "cell_type": "code",
   "execution_count": null,
   "id": "d93a2c10",
   "metadata": {},
   "outputs": [],
   "source": [
    "# Total de variáveis nas listas.\n",
    "len(id_clientes + data + nums + cats)"
   ]
  },
  {
   "cell_type": "markdown",
   "id": "59ee66b6",
   "metadata": {},
   "source": [
    "#### 2.3.1 Variável Periódica"
   ]
  },
  {
   "cell_type": "code",
   "execution_count": null,
   "id": "cedcb7c1",
   "metadata": {},
   "outputs": [],
   "source": [
    "# Datas do conjunto de dados.\n",
    "print('Data início: {}'.format(df2['Dt_Customer'].min()))\n",
    "print('Data final: {}'.format(df2['Dt_Customer'].max()))"
   ]
  },
  {
   "cell_type": "markdown",
   "id": "72c896bd",
   "metadata": {},
   "source": [
    "A base de dados possui registros de clientes que se inscreveram entre as datas de 30/07/2012 a 29/06/2014."
   ]
  },
  {
   "cell_type": "markdown",
   "id": "064de7f7",
   "metadata": {},
   "source": [
    "#### 2.3.2 Variáveis Numéricas"
   ]
  },
  {
   "cell_type": "code",
   "execution_count": null,
   "id": "75ada3d5",
   "metadata": {},
   "outputs": [],
   "source": [
    "# Estatísticas das variáveis.\n",
    "df2[nums].describe().T"
   ]
  },
  {
   "cell_type": "code",
   "execution_count": null,
   "id": "7b39173e",
   "metadata": {},
   "outputs": [],
   "source": [
    "# Histogramas das variáveis.\n",
    "\n",
    "# Especificando as variáveis.\n",
    "features = nums\n",
    "\n",
    "# Plotagem.\n",
    "for i in range(0, len(nums)):\n",
    "    plt.subplot(4, 4, i + 1)\n",
    "    sns.histplot(x = df2[features[i]], color = 'orange')\n",
    "    plt.xlabel(features[i])\n",
    "    plt.tight_layout()"
   ]
  },
  {
   "cell_type": "code",
   "execution_count": null,
   "id": "76a3e31b",
   "metadata": {},
   "outputs": [],
   "source": [
    "# Boxplots das variáveis.\n",
    "\n",
    "# Especificando as variáveis.\n",
    "features = nums\n",
    "\n",
    "# Plotagem.\n",
    "for col in range(0, len(features)):\n",
    "    plt.subplot(4, 4, col + 1)\n",
    "    sns.boxplot(y = df2[features[col]], color = 'orange')\n",
    "    plt.tight_layout()"
   ]
  },
  {
   "cell_type": "markdown",
   "id": "b0aada2a",
   "metadata": {},
   "source": [
    "#### 2.3.3 Tratando Valores Outliers"
   ]
  },
  {
   "cell_type": "markdown",
   "id": "68b16b06",
   "metadata": {},
   "source": [
    "Iremos tratar as seguintes variáveis:\n",
    "\n",
    "- **`Year_Birth`** possui registros muito antigos.\n",
    "    - A idade máxima considerada será de 100 anos. \n",
    "    \n",
    "    \n",
    "- **`Income`** possui valores *outliers*, ou seja, valores muito distantes da média.\n",
    "    - O limite de corte será a média da variável + 3 x o valor do desvio padrão."
   ]
  },
  {
   "cell_type": "code",
   "execution_count": null,
   "id": "fccc1815",
   "metadata": {},
   "outputs": [],
   "source": [
    "# Contagem de registros antes do tratamento.\n",
    "print(f'Número de linhas antes de filtrar valores extremos (outliers): {len(df2)}')"
   ]
  },
  {
   "cell_type": "code",
   "execution_count": null,
   "id": "2615209a",
   "metadata": {},
   "outputs": [],
   "source": [
    "# Limite de corte para variável \"Income\".\n",
    "limite = df2['Income'].mean() + 3 * df2['Income'].std()\n",
    "print('Desconsiderar valores acima de:', limite)"
   ]
  },
  {
   "cell_type": "code",
   "execution_count": null,
   "id": "e99bcdc5",
   "metadata": {},
   "outputs": [],
   "source": [
    "# Tratando os valores outliers.\n",
    "df2 = df2[(df2['Year_Birth'] >= 1922) & (df2['Income'] <= limite)]"
   ]
  },
  {
   "cell_type": "code",
   "execution_count": null,
   "id": "721dcabc",
   "metadata": {},
   "outputs": [],
   "source": [
    "# Contagem de registros após o tratamento.\n",
    "print(f'Número de linhas após filtrar valores extremos (outliers): {len(df2)}')"
   ]
  },
  {
   "cell_type": "code",
   "execution_count": null,
   "id": "93832117",
   "metadata": {},
   "outputs": [],
   "source": [
    "# Variáveis após o tratamento.\n",
    "\n",
    "# Plotagem.\n",
    "plt.subplot(2, 2, 1)\n",
    "p1 = sns.boxplot(y = df2['Year_Birth'], color = 'orange')\n",
    "\n",
    "plt.subplot(2, 2, 2)\n",
    "p2 = sns.boxplot(y = df2['Income'], color = 'orange')\n",
    "\n",
    "plt.subplot(2, 2, 3)\n",
    "p3 = sns.histplot(df2['Year_Birth'], color = 'orange')\n",
    "p3.set_ylabel('')\n",
    "\n",
    "plt.subplot(2, 2, 4)\n",
    "p4 = sns.histplot(df2['Income'], color = 'orange')\n",
    "p4.set_ylabel('')\n",
    "\n",
    "# Título.\n",
    "p1.text(x = 0.1,\n",
    "        y = 2005, \n",
    "        s = 'Variáveis Após o Tratamento de Outliers',\n",
    "        fontsize = 20);"
   ]
  },
  {
   "cell_type": "markdown",
   "id": "32d5875f",
   "metadata": {},
   "source": [
    "#### 2.3.4 Variáveis Categóricas"
   ]
  },
  {
   "cell_type": "code",
   "execution_count": null,
   "id": "b7b47936",
   "metadata": {},
   "outputs": [],
   "source": [
    "# Análise univariada.\n",
    "\n",
    "# Especificando as variáveis.\n",
    "features = cats\n",
    "\n",
    "# Plotagem.\n",
    "for i in range(0, len(features)):\n",
    "    plt.subplot(5, 2, i + 1)\n",
    "    sns.countplot(x = df2[cats[i]], palette = 'autumn_r')\n",
    "    plt.tight_layout()"
   ]
  },
  {
   "cell_type": "code",
   "execution_count": null,
   "id": "b6225912",
   "metadata": {},
   "outputs": [],
   "source": [
    "# Análise bivariada (\"Response\").\n",
    "\n",
    "# Especificando as variáveis.\n",
    "features = cats[:-1]\n",
    "\n",
    "# Plotagem.\n",
    "for i in range(0, len(features)):\n",
    "    plt.subplot(5, 2, i + 1) \n",
    "    sns.countplot(data = df2, \n",
    "                  x = features[i], \n",
    "                  hue = 'Response',\n",
    "                  palette = 'autumn_r')\n",
    "    plt.tight_layout()"
   ]
  },
  {
   "cell_type": "code",
   "execution_count": null,
   "id": "9ab518a0",
   "metadata": {},
   "outputs": [],
   "source": [
    "# Cópia do dataframe.\n",
    "df3 = df2.copy()"
   ]
  },
  {
   "cell_type": "markdown",
   "id": "b88866c9",
   "metadata": {},
   "source": [
    "## 3. Engenharia de Atributos"
   ]
  },
  {
   "cell_type": "markdown",
   "id": "28700b42",
   "metadata": {},
   "source": [
    "As seguintes variáveis serão criadas de acordo com as regras abaixo: \n",
    "\n",
    "- **`Age`** informa a idade do cliente.\n",
    "    - 2015 (ano seguinte ao último registro do dataset) - ano de nascimento. \n",
    "    \n",
    "    \n",
    "- **`Group_Age`** informa a que grupo o cliente pertence conforme sua idade. \n",
    "    - 1 = clientes de 18 a 25 anos; \n",
    "    - 2 = clientes de 25 a 40 anos;\n",
    "    - 3 = clientes de 40 a 60 anos;\n",
    "    - 4 = clientes de 60 a 100 anos.\n",
    "    \n",
    "    \n",
    "- **`Graduate`** informa se o cliente possui ensino básico ou superior.\n",
    "    \n",
    "    \n",
    "- **`Relationship`** informa se o cliente é solteiro ou casado.\n",
    "    \n",
    "    \n",
    "- **`Kids`** informa a quantidade de filhos do cliente (*Kidhome* + *Teenhome*).\n",
    "    \n",
    "    \n",
    "- **`CurrentDay`** será utilizada para o calcular o tempo de vida do cliente. \n",
    "    - Receberá a data (mês e ano) seguinte ao último registro do dataset.\n",
    "    \n",
    "    \n",
    "- **`CustomerMonth`** informa o tempo de vida do cliente (em meses). \n",
    "\n",
    "\n",
    "- **`TotalProd`** total de produtos vendidos.\n",
    "    - Receberá o valor da soma das 6 categorias de produtos.\n",
    "    \n",
    "    \n",
    "- **`TotalPurchases`** total de vendas realizadas.\n",
    "    - Receberá o valor da soma das 4 categorias dos locais de compras.\n",
    "    \n",
    "    \n",
    "- **`TotalPromo`** informa a quantidade de campanhas de marketing que o cliente aceitou.  \n",
    "    - Receberá o valor da soma das variáveis referentes as campanhas de marketing."
   ]
  },
  {
   "cell_type": "code",
   "execution_count": null,
   "id": "8c005d1b",
   "metadata": {},
   "outputs": [],
   "source": [
    "# Variável \"Age\".\n",
    "df3.insert(2, 'Age', 2015 - df3['Year_Birth'])\n",
    "\n",
    "# Informações da variável.\n",
    "print('A menor idade é: {} anos'.format(df3['Age'].min()))\n",
    "print('A maior idade é: {} anos'.format(df3['Age'].max()))"
   ]
  },
  {
   "cell_type": "code",
   "execution_count": null,
   "id": "a37093bf",
   "metadata": {},
   "outputs": [],
   "source": [
    "# Variável \"GroupAge\".\n",
    "\n",
    "# Definindo os valores e labels.\n",
    "bins_age = [18, 25, 40, 60, 100]\n",
    "labels_age = [1, 2, 3, 4]\n",
    "\n",
    "# Criando a variável.\n",
    "df3.insert(3, 'GroupAge', pd.cut(df3['Age'], bins_age, labels = labels_age).astype('int64'))"
   ]
  },
  {
   "cell_type": "code",
   "execution_count": null,
   "id": "6b510061",
   "metadata": {},
   "outputs": [],
   "source": [
    "# Variável \"Graduate\".\n",
    "df3.insert(5, 'Graduate', df3['Education'].apply(lambda x: 'Básico' if x == 'Basic' else 'Superior'))"
   ]
  },
  {
   "cell_type": "code",
   "execution_count": null,
   "id": "c01f87cf",
   "metadata": {},
   "outputs": [],
   "source": [
    "# Variável \"Relationship\".\n",
    "df3.insert(7, 'Relationship', df3['Marital_Status'].copy())\n",
    "\n",
    "# Substituindo os valores.\n",
    "df3['Relationship'] = df3['Relationship'].replace(['Single', 'Divorced', 'Widow', 'Alone', 'Absurd', 'YOLO'], 'Solteiro')\n",
    "df3['Relationship'] = df3['Relationship'].replace(['Married', 'Together'], 'Casado')"
   ]
  },
  {
   "cell_type": "code",
   "execution_count": null,
   "id": "7d608d32",
   "metadata": {},
   "outputs": [],
   "source": [
    "# Variável \"Kids\".\n",
    "df3.insert(11, 'Kids', df3['Kidhome'] + df3['Teenhome'])"
   ]
  },
  {
   "cell_type": "code",
   "execution_count": null,
   "id": "1eed83ed",
   "metadata": {},
   "outputs": [],
   "source": [
    "# Variável \"CurrentDay\".\n",
    "df3.insert(13, 'CurrentDay', datetime.strptime('2014-07', '%Y-%m'))"
   ]
  },
  {
   "cell_type": "code",
   "execution_count": null,
   "id": "19d09975",
   "metadata": {},
   "outputs": [],
   "source": [
    "# Variável \"CustomerMonth\".\n",
    "df3.insert(14, 'CustomerMonth', ((df3['CurrentDay'] - df3['Dt_Customer']) / 30).apply(lambda x: x.days).astype('int64'))"
   ]
  },
  {
   "cell_type": "code",
   "execution_count": null,
   "id": "bbafb824",
   "metadata": {},
   "outputs": [],
   "source": [
    "# Variável \"TotalProd\".\n",
    "df3.insert(22, 'TotalProd', \n",
    "           df3['MntWines'] + \n",
    "           df3['MntFruits'] + \n",
    "           df3['MntMeatProducts'] + \n",
    "           df3['MntFishProducts'] +\n",
    "           df3['MntSweetProducts'] + \n",
    "           df3['MntGoldProds'])"
   ]
  },
  {
   "cell_type": "code",
   "execution_count": null,
   "id": "3dec956a",
   "metadata": {},
   "outputs": [],
   "source": [
    "# Variável \"TotalPurchases\".\n",
    "df3.insert(27, 'TotalPurchases', \n",
    "           df3['NumDealsPurchases'] + \n",
    "           df3['NumWebPurchases'] + \n",
    "           df3['NumCatalogPurchases'] + \n",
    "           df3['NumStorePurchases'])"
   ]
  },
  {
   "cell_type": "code",
   "execution_count": null,
   "id": "45b670a1",
   "metadata": {},
   "outputs": [],
   "source": [
    "# Variável \"TotalPromo\".\n",
    "df3.insert(36, 'TotalPromo', \n",
    "           df3['AcceptedCmp1'] + \n",
    "           df3['AcceptedCmp2'] + \n",
    "           df3['AcceptedCmp3'] + \n",
    "           df3['AcceptedCmp4'] + \n",
    "           df3['AcceptedCmp5'] + \n",
    "           df3['Response'])"
   ]
  },
  {
   "cell_type": "code",
   "execution_count": null,
   "id": "710ea073",
   "metadata": {},
   "outputs": [],
   "source": [
    "# Cópia do dataframe.\n",
    "df4 = df3.copy()"
   ]
  },
  {
   "cell_type": "code",
   "execution_count": null,
   "id": "4ab22f38",
   "metadata": {},
   "outputs": [],
   "source": [
    "# Excluindo as variáveis com informações duplicadas.\n",
    "df4 = df4.drop(['Year_Birth',\n",
    "                'Education', \n",
    "                'Marital_Status', \n",
    "                'Kidhome', \n",
    "                'Teenhome',\n",
    "                'Dt_Customer',\n",
    "                'CurrentDay',\n",
    "                'AcceptedCmp1',\n",
    "                'AcceptedCmp2',\n",
    "                'AcceptedCmp3',\n",
    "                'AcceptedCmp4',\n",
    "                'AcceptedCmp5',\n",
    "                'Response'], axis = 1)"
   ]
  },
  {
   "cell_type": "code",
   "execution_count": null,
   "id": "99450646",
   "metadata": {},
   "outputs": [],
   "source": [
    "# Visualizando o dataframe.\n",
    "df4.head()"
   ]
  },
  {
   "cell_type": "markdown",
   "id": "71d29400",
   "metadata": {},
   "source": [
    "## 4. Perguntas e Hipóteses de Negócio"
   ]
  },
  {
   "cell_type": "markdown",
   "id": "649bd4b7",
   "metadata": {},
   "source": [
    "Agora que entendemos o que as variáveis representam, vamos criar algumas perguntas e hipóteses de negócio.\n",
    "\n",
    "- **P1.** Qual o produto mais vendido da empresa?\n",
    "- **P2.** Existe correlação significativa entre os produtos?\n",
    "- **P3.** Qual campanha de marketing teve maior aceitação entre os clientes?\n",
    "- **P4.** Qual o local de compras responsável pelo maior número de vendas?\n",
    "\n",
    "\n",
    "- **H1.** Em média, clientes mais jovens compram mais pela internet.\n",
    "- **H2.** Clientes com ensino superior comprar mais. \n",
    "- **H3.** Em média, clientes solteiros compram mais que clientes casados. \n",
    "- **H4.** Clientes \"alta renda\" compram mais.\n",
    "- **H5.** Clientes que possuem mais filhos compram mais.\n",
    "- **H6.** Clientes antigos compram mais que clientes novos."
   ]
  },
  {
   "cell_type": "markdown",
   "id": "60f349fe",
   "metadata": {},
   "source": [
    "### P1. Qual o produto mais vendido da empresa?"
   ]
  },
  {
   "cell_type": "code",
   "execution_count": null,
   "id": "b753e599",
   "metadata": {},
   "outputs": [],
   "source": [
    "# Pergunta 1.\n",
    "\n",
    "# Especificando as variáveis.\n",
    "prod = ['MntWines',\n",
    "        'MntFruits',\n",
    "        'MntMeatProducts',\n",
    "        'MntFishProducts',\n",
    "        'MntSweetProducts',\n",
    "        'MntGoldProds']\n",
    "\n",
    "# Plotagem.\n",
    "df4[prod].sum().sort_values(ascending = False).plot.bar(color = 'orange')\n",
    "plt.title('Produtos Mais Vendidos \\n', fontdict = {'fontsize':20})\n",
    "plt.xticks(rotation = 60);"
   ]
  },
  {
   "cell_type": "markdown",
   "id": "9a89a4ab",
   "metadata": {},
   "source": [
    "- Vinho é o produto mais vendido da empresa."
   ]
  },
  {
   "cell_type": "markdown",
   "id": "163a78c8",
   "metadata": {},
   "source": [
    "### P2. Existe correlação significativa entre os produtos?"
   ]
  },
  {
   "cell_type": "code",
   "execution_count": null,
   "id": "24eac4a6",
   "metadata": {},
   "outputs": [],
   "source": [
    "# Pergunta 2.\n",
    "\n",
    "# Matriz de correlação.\n",
    "corr_df = df4[['MntWines',\n",
    "               'MntFruits', \n",
    "               'MntMeatProducts', \n",
    "               'MntFishProducts',\n",
    "               'MntSweetProducts',\n",
    "               'MntGoldProds']].corr()\n",
    "\n",
    "# Plotagem.\n",
    "p1 = sns.heatmap(corr_df,\n",
    "                 cmap = 'Spectral', \n",
    "                 annot = True, \n",
    "                 fmt = '.2f')\n",
    "p1.set_title('Análise de Correlação \\n', size = 20);"
   ]
  },
  {
   "cell_type": "markdown",
   "id": "9bd020cc",
   "metadata": {},
   "source": [
    "- Com exceção do vinho e do ouro, os demais produtos possuem uma correlação de aproximadamente 0.60.\n",
    "- A carne é o único produto correlacionado positivamente com vinho."
   ]
  },
  {
   "cell_type": "markdown",
   "id": "f473483e",
   "metadata": {},
   "source": [
    "### P3. Qual campanha de marketing teve maior aceitação entre os clientes?"
   ]
  },
  {
   "cell_type": "code",
   "execution_count": null,
   "id": "ee86dd1c",
   "metadata": {},
   "outputs": [],
   "source": [
    "# Pergunta 3.\n",
    "# Utilizaremos o df3 para responder essa questão.\n",
    "\n",
    "# Especificando as variáveis.\n",
    "mkt = ['AcceptedCmp1',\n",
    "       'AcceptedCmp2',\n",
    "       'AcceptedCmp3',\n",
    "       'AcceptedCmp4',\n",
    "       'AcceptedCmp5',\n",
    "       'Response']\n",
    "\n",
    "# Plotagem.\n",
    "df3[mkt].sum().plot.bar(color = 'orange')\n",
    "plt.title('Conversão de Clientes por Campanha\\n', fontdict = {'fontsize':20})\n",
    "plt.xticks(rotation = 60);"
   ]
  },
  {
   "cell_type": "markdown",
   "id": "3379c7cb",
   "metadata": {},
   "source": [
    "- Considerando a variável **`Response`** sendo a 6º campanha realizada, essa foi a de maior aceitação entre os clientes."
   ]
  },
  {
   "cell_type": "markdown",
   "id": "75cd544a",
   "metadata": {},
   "source": [
    "### P4. Qual o local de compras responsável pelo maior número de vendas?"
   ]
  },
  {
   "cell_type": "code",
   "execution_count": null,
   "id": "226987a2",
   "metadata": {},
   "outputs": [],
   "source": [
    "# Pergunta 4.\n",
    "\n",
    "# Especificando as variáveis.\n",
    "local = ['NumWebPurchases',\n",
    "         'NumCatalogPurchases',\n",
    "         'NumStorePurchases']\n",
    "\n",
    "# Plotagem.\n",
    "df4[local].sum().sort_values(ascending = False).plot.bar(color = 'orange')\n",
    "plt.title('Vendas por Local \\n', fontdict = {'fontsize':20})\n",
    "plt.xticks(rotation = 60);"
   ]
  },
  {
   "cell_type": "markdown",
   "id": "9642c690",
   "metadata": {},
   "source": [
    "- O maior número de vendas da empresa acontece em lojas físicas."
   ]
  },
  {
   "cell_type": "markdown",
   "id": "2bfd4f26",
   "metadata": {},
   "source": [
    "### H1. Em média, clientes mais jovens compram mais pela internet."
   ]
  },
  {
   "cell_type": "code",
   "execution_count": null,
   "id": "abd2e344",
   "metadata": {},
   "outputs": [],
   "source": [
    "# Hipótese 1.\n",
    "\n",
    "# Preparando os dados.\n",
    "h1 = df4[['GroupAge', 'NumWebPurchases']].groupby('GroupAge').sum().reset_index()\n",
    "h1_1 = df4[['GroupAge', 'NumWebPurchases']].groupby('GroupAge').mean().reset_index()\n",
    "\n",
    "# Plotagem.\n",
    "plt.subplot(1, 2, 1)\n",
    "p1 = sns.barplot(x = 'GroupAge', y = 'NumWebPurchases', data = h1, palette = 'autumn_r')\n",
    "p1.set_title('Vendas Totais', size = 15)\n",
    "plt.xticks(rotation = 60)\n",
    "\n",
    "plt.subplot(1, 2, 2)\n",
    "p2 = sns.barplot(x = 'GroupAge', y = 'NumWebPurchases', data = h1_1, palette = 'autumn_r')\n",
    "p2.set_title('Média de Vendas', size = 15)\n",
    "plt.xticks(rotation = 60)\n",
    "\n",
    "# Título.\n",
    "p1.text(x = 2,\n",
    "        y = 5500, \n",
    "        s = 'Vendas pela Internet por Grupo de Idade',\n",
    "        fontsize = 20);"
   ]
  },
  {
   "cell_type": "markdown",
   "id": "4e46eaaa",
   "metadata": {},
   "source": [
    "- Falsa, podemos observar que os grupos 3 e 4 possuem as maiores médias de compra pela internet."
   ]
  },
  {
   "cell_type": "markdown",
   "id": "6a42a05f",
   "metadata": {},
   "source": [
    "### H2. Clientes com ensino superior compram mais."
   ]
  },
  {
   "cell_type": "code",
   "execution_count": null,
   "id": "f7831f99",
   "metadata": {},
   "outputs": [],
   "source": [
    "# Hipótese 2 \n",
    "\n",
    "# Preparando os dados.\n",
    "h2 = df4[['Graduate', 'TotalProd']].groupby('Graduate').sum().reset_index()\n",
    "h2_1 = df4[['Graduate', 'TotalProd']].groupby('Graduate').mean().reset_index()\n",
    "\n",
    "# Plotagem.\n",
    "plt.subplot(1, 2, 1)\n",
    "p1 = sns.barplot(x = 'Graduate', y = 'TotalProd', data = h2, palette = 'autumn_r')\n",
    "p1.set_title('Vendas Totais', size = 15);\n",
    "\n",
    "plt.subplot(1, 2, 2)\n",
    "p2 = sns.barplot(x = 'Graduate', y = 'TotalProd', data = h2_1, palette = 'autumn_r')\n",
    "p2.set_title('Média de Vendas', size = 15)\n",
    "\n",
    "# Título.\n",
    "p1.text(x = 1,\n",
    "        y = 1500000, \n",
    "        s = 'Vendas por Nível Educacional',\n",
    "        fontsize = 20);"
   ]
  },
  {
   "cell_type": "markdown",
   "id": "6099a189",
   "metadata": {},
   "source": [
    "- Verdadeira, tanto no número total quanto na média, clientes com ensino superior compram mais. "
   ]
  },
  {
   "cell_type": "markdown",
   "id": "87e0a85b",
   "metadata": {},
   "source": [
    "### H3. Em média, clientes solteiros compram mais que clientes casados."
   ]
  },
  {
   "cell_type": "code",
   "execution_count": null,
   "id": "3404c822",
   "metadata": {},
   "outputs": [],
   "source": [
    "# Hipótese 3 \n",
    "\n",
    "# Preparando os dados.\n",
    "h3 = df4[['Relationship', 'TotalProd']].groupby('Relationship').sum().reset_index()\n",
    "h3_1 = df4[['Relationship', 'TotalProd']].groupby('Relationship').mean().reset_index()\n",
    "\n",
    "# Plotagem.\n",
    "plt.subplot(1, 2, 1)\n",
    "p1 = sns.barplot(x = 'Relationship', y = 'TotalProd', data = h3, palette = 'autumn_r')\n",
    "p1.set_title('Vendas Totais', size = 15);\n",
    "\n",
    "plt.subplot(1, 2, 2)\n",
    "p2 = sns.barplot(x = 'Relationship', y = 'TotalProd', data = h3_1, palette = 'autumn_r')\n",
    "p2.set_title('Média de Vendas', size = 15)\n",
    "\n",
    "# Título.\n",
    "p1.text(x = 1.0,\n",
    "        y = 950000, \n",
    "        s = 'Vendas por Estado Civil',\n",
    "        fontsize = 20);"
   ]
  },
  {
   "cell_type": "markdown",
   "id": "baf912c1",
   "metadata": {},
   "source": [
    "- Verdadeira, a média de compras de clientes solteiros é ligeiramente maior."
   ]
  },
  {
   "cell_type": "markdown",
   "id": "c60d5e80",
   "metadata": {},
   "source": [
    "### H4. Clientes \"alta renda\" compram mais."
   ]
  },
  {
   "cell_type": "code",
   "execution_count": null,
   "id": "8289ad14",
   "metadata": {},
   "outputs": [],
   "source": [
    "# Hipótese 4.\n",
    "\n",
    "# Preparação dos dados.\n",
    "h4 = df4[['Income', 'TotalProd']].groupby('Income').sum().reset_index()\n",
    "\n",
    "# Plotagem.\n",
    "plt.subplot(1, 2, 1)\n",
    "p1 = sns.scatterplot(x = 'Income', y = 'TotalProd', data = h4, color = 'orange')\n",
    "p1.set_title('Gráfico de Distribuição', size = 15)\n",
    "\n",
    "plt.subplot(1, 2, 2)\n",
    "p2 = sns.heatmap(h4.corr(method = 'pearson'), annot = True)\n",
    "p2.set_title('Análise de Correlação', size = 15)\n",
    "\n",
    "# Título.\n",
    "p1.text(x = 90000,\n",
    "        y = 5800, \n",
    "        s = 'Vendas por Renda Anual',\n",
    "        fontsize = 20);"
   ]
  },
  {
   "cell_type": "markdown",
   "id": "c845bb93",
   "metadata": {},
   "source": [
    "- Verdadeira, há uma alta correlação positiva entre a renda do cliente e o total de produtos comprados."
   ]
  },
  {
   "cell_type": "markdown",
   "id": "766e37bf",
   "metadata": {},
   "source": [
    "### H5. Clientes que possuem mais filhos compram mais."
   ]
  },
  {
   "cell_type": "code",
   "execution_count": null,
   "id": "05ebefcf",
   "metadata": {},
   "outputs": [],
   "source": [
    "# Hipótese 5 \n",
    "\n",
    "# Preparando os dados.\n",
    "h5 = df4[['Kids', 'TotalProd']].groupby('Kids').sum().reset_index()\n",
    "h5_1 = df4[['Kids', 'TotalProd']].groupby('Kids').mean().reset_index()\n",
    "\n",
    "# Plotagem.\n",
    "plt.subplot(1, 2, 1)\n",
    "p1 = sns.barplot(x = 'Kids', y = 'TotalProd', data = h5, palette = 'autumn_r')\n",
    "p1.set_title('Vendas Totais', size = 15);\n",
    "\n",
    "plt.subplot(1, 2, 2)\n",
    "p2 = sns.barplot(x = 'Kids', y = 'TotalProd', data = h5_1, palette = 'autumn_r')\n",
    "p2.set_title('Média de Vendas', size = 15)\n",
    "\n",
    "# Título.\n",
    "p1.text(x = 2.5,\n",
    "        y = 800000, \n",
    "        s = 'Vendas por Número de Filhos',\n",
    "        fontsize = 20);"
   ]
  },
  {
   "cell_type": "markdown",
   "id": "cc78b97f",
   "metadata": {},
   "source": [
    "- Falsa, quantos mais filhos os clientes possuem menos eles compram."
   ]
  },
  {
   "cell_type": "markdown",
   "id": "7424e40c",
   "metadata": {},
   "source": [
    "### H6. Clientes antigos compram mais que clientes novos."
   ]
  },
  {
   "cell_type": "code",
   "execution_count": null,
   "id": "858970da",
   "metadata": {},
   "outputs": [],
   "source": [
    "# Hipótese 6.\n",
    "\n",
    "# Preparando os dados.\n",
    "h6 = df4[['CustomerMonth', 'TotalProd']].groupby('CustomerMonth').sum().reset_index()\n",
    "\n",
    "# Plotagem.\n",
    "plt.subplot(1,2,1)\n",
    "p1 = sns.barplot(x = 'CustomerMonth', y = 'TotalProd', data = h6, palette = 'autumn_r')\n",
    "plt.xticks(rotation = 60);\n",
    "\n",
    "plt.subplot(1,2,2)\n",
    "p2 = sns.heatmap(h6.corr(method = 'pearson'), annot = True)\n",
    "plt.xticks(rotation = 60);\n",
    "\n",
    "# Título.\n",
    "p1.text(x = 15,\n",
    "        y = 90000, \n",
    "        s = 'Vendas por Tempo de Vida do Cliente',\n",
    "        fontsize = 20);"
   ]
  },
  {
   "cell_type": "markdown",
   "id": "cc86442b",
   "metadata": {},
   "source": [
    "- Falsa, não há nenhuma relação entre o tempo de vida do cliente com o total de compras realizadas."
   ]
  },
  {
   "cell_type": "markdown",
   "id": "6e3b777a",
   "metadata": {},
   "source": [
    "## 5. Análise RFM"
   ]
  },
  {
   "cell_type": "markdown",
   "id": "8ef5ebe7",
   "metadata": {},
   "source": [
    "A análise RFM é uma estratégia para estimar o valor de um cliente, com base em três variáveis:\n",
    "\n",
    "- **Recency (recência):** quanto mais recente tiver sido a última compra de um cliente, mais pontos ele recebe aqui.\n",
    "- **Frequency (frequência):** quanto maior for o número de compras de um cliente, maior também será sua pontuação neste quesito.\n",
    "- **Monetary (monetário):** quanto maior for o gasto do cliente em compras, maior a pontuação.  "
   ]
  },
  {
   "cell_type": "markdown",
   "id": "f0663fab",
   "metadata": {},
   "source": [
    "### 5.1 Definindo os Preços dos Produtos"
   ]
  },
  {
   "cell_type": "markdown",
   "id": "7820a97c",
   "metadata": {},
   "source": [
    "Para o cálculo da RFM precisamos saber o preço unitário dos produtos. \n",
    "\n",
    "Para isso, marcamos uma reunião com a área de negócio onde foi informado os seguintes valores:\n",
    "\n",
    "- **Vinhos**: são vendidos a 15 reais. \n",
    "- **Frutas**: são vendidas a 5 reais.\n",
    "- **Carnes**: são vendidas a 20 reais.\n",
    "- **Peixes**: são vendidos a 20 reais.\n",
    "- **Doces**: são vendidos a 10 reais.\n",
    "- **Produtos Ouro**: são vendidos a 30 reais."
   ]
  },
  {
   "cell_type": "code",
   "execution_count": null,
   "id": "20cdba64",
   "metadata": {},
   "outputs": [],
   "source": [
    "# Definindo os preços dos produtos.\n",
    "vinho = 15\n",
    "fruta = 5\n",
    "carne = 20\n",
    "peixe = 20\n",
    "doce = 10\n",
    "ouro = 30 "
   ]
  },
  {
   "cell_type": "code",
   "execution_count": null,
   "id": "6083a2ad",
   "metadata": {},
   "outputs": [],
   "source": [
    "# Variável \"Total$\".\n",
    "df4.insert(14, 'Total$', \n",
    "           (df4['MntWines'] * vinho) + \n",
    "           (df4['MntFruits'] * fruta) + \n",
    "           (df4['MntMeatProducts'] * carne) + \n",
    "           (df4['MntFishProducts'] * peixe) + \n",
    "           (df4['MntSweetProducts'] * doce) + \n",
    "           (df4['MntGoldProds'] * ouro))"
   ]
  },
  {
   "cell_type": "code",
   "execution_count": null,
   "id": "0636b855",
   "metadata": {},
   "outputs": [],
   "source": [
    "# Visualizando as variáveis\n",
    "df4[['MntWines',\n",
    "    'MntFruits',\n",
    "    'MntMeatProducts',\n",
    "    'MntFishProducts',\n",
    "    'MntSweetProducts',\n",
    "    'MntGoldProds',\n",
    "    'Total$']].head()"
   ]
  },
  {
   "cell_type": "code",
   "execution_count": null,
   "id": "e73af488",
   "metadata": {},
   "outputs": [],
   "source": [
    "# Dataframe para a análise RFM.\n",
    "df_seg = df4[['ID', \n",
    "              'Recency', \n",
    "              'TotalPurchases', \n",
    "              'Total$']]"
   ]
  },
  {
   "cell_type": "code",
   "execution_count": null,
   "id": "744ce402",
   "metadata": {},
   "outputs": [],
   "source": [
    "# Renomeando as colunas.\n",
    "df_seg.rename(columns = {'Recency': 'R', \n",
    "                         'TotalPurchases': 'F', \n",
    "                         'Total$': 'M'}, inplace = True)"
   ]
  },
  {
   "cell_type": "code",
   "execution_count": null,
   "id": "079bbc77",
   "metadata": {},
   "outputs": [],
   "source": [
    "# Visualizando o dataframe.\n",
    "df_seg.head()"
   ]
  },
  {
   "cell_type": "markdown",
   "id": "55c4fb96",
   "metadata": {},
   "source": [
    "**-R (Recência):** indica quantos dias se passaram desde a última compra do cliente.\n",
    "\n",
    "**-F (Frequência):** indica a quantidade de compras realizadas pelo cliente.\n",
    "\n",
    "**-M (Monetário):** indica a quantidade monetária gasta pelo cliente. "
   ]
  },
  {
   "cell_type": "code",
   "execution_count": null,
   "id": "5d0e2daa",
   "metadata": {},
   "outputs": [],
   "source": [
    "# Densidade das variáveis RFM.\n",
    "\n",
    "# Plotagem.\n",
    "plt.subplot(3, 1, 1)\n",
    "p1 = sns.distplot(df_seg['R'], color = 'orange')\n",
    "\n",
    "plt.subplot(3, 1, 2) \n",
    "p2 = sns.distplot(df_seg['F'], color = 'orange')\n",
    "\n",
    "plt.subplot(3, 1, 3)\n",
    "p3 = sns.distplot(df_seg['M'], color = 'orange')\n",
    "\n",
    "# Título.\n",
    "p1.text(x = 25,\n",
    "        y = 0.015, \n",
    "        s = 'Densidade das Variáveis RFM',\n",
    "        fontsize = 20);"
   ]
  },
  {
   "cell_type": "markdown",
   "id": "e53d10e2",
   "metadata": {},
   "source": [
    "- A recência dos clientes está bem distribuída, entre 0 e 100 dias. \n",
    "- Poucos clientes estão a mais de 30 dias sem realizarem pelo menos uma compra.\n",
    "- A maioria dos clientes gastam até 10.000,00 reais."
   ]
  },
  {
   "cell_type": "markdown",
   "id": "2850a7b6",
   "metadata": {},
   "source": [
    "### 5.2 Segmentando Clientes"
   ]
  },
  {
   "cell_type": "markdown",
   "id": "a34c0230",
   "metadata": {},
   "source": [
    "Com os valores RFM definidos podemos iniciar a segmentação. Vamos dividir os dados em quatro quartis."
   ]
  },
  {
   "cell_type": "code",
   "execution_count": null,
   "id": "d6beea52",
   "metadata": {},
   "outputs": [],
   "source": [
    "# Divisão do dataframe.\n",
    "quantiles = df_seg.quantile(q = [0.25, 0.5, 0.75, 1]) \n",
    "quantiles"
   ]
  },
  {
   "cell_type": "markdown",
   "id": "6dd347f7",
   "metadata": {},
   "source": [
    "Acima temos os valores máximos da RFM para cada quartil.\n",
    "\n",
    "Porém não faz sentido entregar essa divisão para a empresa, pois o R deve ser baixo, indicando que o cliente está ativo na empresa, e o F e M devem ser altos, pois indicam a frequência e o valor total gasto.\n",
    "\n",
    "Sendo assim, iremos definir duas funções que irão realizar essa filtragem."
   ]
  },
  {
   "cell_type": "code",
   "execution_count": null,
   "id": "e1b2c318",
   "metadata": {},
   "outputs": [],
   "source": [
    "# Convertendo o dataframe.\n",
    "quantiles = quantiles.to_dict() "
   ]
  },
  {
   "cell_type": "markdown",
   "id": "b45aa3d4",
   "metadata": {},
   "source": [
    "Com a função *R_Score*, iremos classificar os valores de \"R\". \n",
    "\n",
    "Os valores serão classificados em grupos de 1 a 4, onde o grupo 1 receberá os menores valores de R, ou seja, os melhores valores, até o grupo 4, que receberá os valores mais altos de R."
   ]
  },
  {
   "cell_type": "code",
   "execution_count": null,
   "id": "43b5f2bc",
   "metadata": {},
   "outputs": [],
   "source": [
    "# Função para classificar o \"R\".\n",
    "def R_Score(a, b, c):\n",
    "    if a <= c[b][0.25]:\n",
    "        return 1\n",
    "    elif a <= c[b][0.50]:\n",
    "        return 2\n",
    "    elif a <= c[b][0.75]: \n",
    "        return 3\n",
    "    else:\n",
    "        return 4"
   ]
  },
  {
   "cell_type": "markdown",
   "id": "cdd6f529",
   "metadata": {},
   "source": [
    "Para a função *FM_Score*, a lógica é a mesma da *R_Score*.\n",
    "\n",
    "Porém aqui, desejamos obter os maiores valores, sendo assim, esses valores serão classificados como 1, e os menores valores como 4."
   ]
  },
  {
   "cell_type": "code",
   "execution_count": null,
   "id": "0adecf68",
   "metadata": {},
   "outputs": [],
   "source": [
    "# Função para classificar o \"F\" e o \"M\". \n",
    "def FM_Score(x, y, z):\n",
    "    if x <= z[y][0.25]:\n",
    "        return 4\n",
    "    elif x <= z[y][0.50]:\n",
    "        return 3\n",
    "    elif x <= z[y][0.75]: \n",
    "        return 2\n",
    "    else:\n",
    "        return 1"
   ]
  },
  {
   "cell_type": "code",
   "execution_count": null,
   "id": "8d845009",
   "metadata": {},
   "outputs": [],
   "source": [
    "# Classificando valores de \"R\".\n",
    "df_seg['R_Score'] = df_seg['R'].apply(R_Score, args = ('R', quantiles))\n",
    "\n",
    "# Classificando valores de \"F\".\n",
    "df_seg['F_Score'] = df_seg['F'].apply(FM_Score, args = ('F', quantiles))\n",
    "\n",
    "# Classificando valores de \"M\".\n",
    "df_seg['M_Score'] = df_seg['M'].apply(FM_Score, args = ('M', quantiles))"
   ]
  },
  {
   "cell_type": "code",
   "execution_count": null,
   "id": "1a6d48a4",
   "metadata": {},
   "outputs": [],
   "source": [
    "# Visualizando o dataframe.\n",
    "df_seg.head()"
   ]
  },
  {
   "cell_type": "markdown",
   "id": "e9a004ae",
   "metadata": {},
   "source": [
    "Com esse dataframe, já podemos filtrar os clientes de acordo com o *Score* desejado.\n",
    "\n",
    "Para facilitar, vamos criar uma variável concatenando os resultados."
   ]
  },
  {
   "cell_type": "code",
   "execution_count": null,
   "id": "a0ad4018",
   "metadata": {},
   "outputs": [],
   "source": [
    "# Variável \"RFM_Score\".\n",
    "df_seg['RFM_Score'] = df_seg['R_Score'].astype(str) + df_seg['F_Score'].astype(str) + df_seg['M_Score'].astype(str)\n",
    "df_seg.head()"
   ]
  },
  {
   "cell_type": "code",
   "execution_count": null,
   "id": "d83c0610",
   "metadata": {},
   "outputs": [],
   "source": [
    "# Total de grupos criados.\n",
    "count = df_seg['RFM_Score'].unique()\n",
    "print(count)\n",
    "len(count)"
   ]
  },
  {
   "cell_type": "markdown",
   "id": "1f9fb0ae",
   "metadata": {},
   "source": [
    "### 5.3 Rotulando os Grupos de Clientes"
   ]
  },
  {
   "cell_type": "markdown",
   "id": "9b1aa705",
   "metadata": {},
   "source": [
    "Visando diminuir o número de grupos criados na etapa anterior, utilizaremos apenas os *scores* de recência e frequência. "
   ]
  },
  {
   "cell_type": "code",
   "execution_count": null,
   "id": "4efa1759",
   "metadata": {},
   "outputs": [],
   "source": [
    "# Variável \"RF_Score\".\n",
    "df_seg['RF_Score'] = df_seg['R_Score'].astype(str) + df_seg['F_Score'].astype(str)"
   ]
  },
  {
   "cell_type": "code",
   "execution_count": null,
   "id": "ebc852fc",
   "metadata": {},
   "outputs": [],
   "source": [
    "# Visualizando o dataframe.\n",
    "df_seg.head()"
   ]
  },
  {
   "cell_type": "markdown",
   "id": "b4867b86",
   "metadata": {},
   "source": [
    "Os grupos serão criados seguindo as regras abaixo:\n",
    "\n",
    "- **Ativo Especial**: clientes recentes que compram com muita frequência;\n",
    "- **Ativo Normal**: clientes recentes que compram com menos frequência;\n",
    "- **Em Atenção**: clientes que compram com muita frequência e que estão a algum tempo sem comprar;\n",
    "- **Em Alerta**: clientes que compram com menos frequência e que estão a algum tempo sem comprar;\n",
    "- **Recuperar Importantes**: clientes que compram com muita frequência e que estão a muito tempo sem comprar;\n",
    "- **Recuperar Médios**: clientes que compram com menos frequência e que estão a muito tempo sem comprar."
   ]
  },
  {
   "cell_type": "code",
   "execution_count": null,
   "id": "fadea282",
   "metadata": {},
   "outputs": [],
   "source": [
    "# Definindo as regras de negócio.\n",
    "seg_map = {r'[1-2][1-2]' : 'Ativo Especial',\n",
    "           r'[1-2][3-4]' : 'Ativo Normal',\n",
    "           r'[3][1-2]'   : 'Em Atenção',\n",
    "           r'[3][3-4]'   : 'Em Alerta',\n",
    "           r'[4][1-2]'   : 'Recuperar Importantes',\n",
    "           r'[4][3-4]'   : 'Recuperar Médios'}"
   ]
  },
  {
   "cell_type": "code",
   "execution_count": null,
   "id": "8a105e06",
   "metadata": {},
   "outputs": [],
   "source": [
    "# Rotulando os grupos.\n",
    "df_seg['Segment'] = df_seg['RF_Score'].replace(seg_map, regex = True)\n",
    "df_seg.head(10)"
   ]
  },
  {
   "cell_type": "code",
   "execution_count": null,
   "id": "7111daae",
   "metadata": {},
   "outputs": [],
   "source": [
    "# Contagem dos grupos. \n",
    "df_seg['Segment'].value_counts()"
   ]
  },
  {
   "cell_type": "code",
   "execution_count": null,
   "id": "f9b756eb",
   "metadata": {},
   "outputs": [],
   "source": [
    "# Segmentação de clientes.\n",
    "p1 = df_seg['Segment'].value_counts().plot.pie(startangle = 180,\n",
    "                                               explode = (0, 0, 0, 0, 0, 0.1),\n",
    "                                               autopct = '%.1f', \n",
    "                                               shadow = True, \n",
    "                                               ylabel = '',\n",
    "                                               colors = ['lightblue',\n",
    "                                                         'royalblue', \n",
    "                                                         'orange', \n",
    "                                                         'tomato',\n",
    "                                                         'wheat', \n",
    "                                                         'crimson'])\n",
    "plt.axis('equal')\n",
    "plt.title('Segmentação dos Clientes\\n', size = 20);"
   ]
  },
  {
   "cell_type": "markdown",
   "id": "4509ad0d",
   "metadata": {},
   "source": [
    "## 6. Recomendações para Área de Marketing"
   ]
  },
  {
   "cell_type": "markdown",
   "id": "6f27ac6a",
   "metadata": {},
   "source": [
    "Após a análise RFM os clientes foram segmentados em 6 grupos, e agora, podemos criar algumas sugestões de campanhas para cada um deles."
   ]
  },
  {
   "cell_type": "markdown",
   "id": "02f5da21",
   "metadata": {},
   "source": [
    "### 6.1 Ativo Especial"
   ]
  },
  {
   "cell_type": "markdown",
   "id": "91831edf",
   "metadata": {},
   "source": [
    "Esses são clientes recentes, que compraram com muita frequência. \n",
    "\n",
    "Para esse grupo, podemos criar campanhas visando recompensar e fidelizar esses clientes, como por exemplo: \n",
    "\n",
    "- Ter acesso a novos produtos antes do lançamento;\n",
    "- Oferecer descontos exclusivos."
   ]
  },
  {
   "cell_type": "markdown",
   "id": "a345281b",
   "metadata": {},
   "source": [
    "### 6.2 Ativo Normal"
   ]
  },
  {
   "cell_type": "markdown",
   "id": "2bbdd2fe",
   "metadata": {},
   "source": [
    "Esse grupo, assim como o anterior, também possui clientes que compraram recentemente, porém, com menor frequência. \n",
    "\n",
    "Aqui, poderíamos adotar algumas estratégias visando aumentar a frequência de compra dos clientes, como por exemplo: \n",
    "\n",
    "- Criar promoções estimulando a recompra de outros produtos;\n",
    "- Criar programas de fidelidade."
   ]
  },
  {
   "cell_type": "markdown",
   "id": "5ea82928",
   "metadata": {},
   "source": [
    "### 6.3 Em Atenção"
   ]
  },
  {
   "cell_type": "markdown",
   "id": "4df0de02",
   "metadata": {},
   "source": [
    "Esse grupo merece atenção pois possui clientes que compraram com muita frequência e que estão \"hibernados\" a algum tempo.\n",
    "\n",
    "Isso pode ser um sinal de que a BestShop está perdendo bons clientes para a concorrência e devemos evitar que isso ocorra.\n",
    "\n",
    "Poderíamos criar algumas estratégias como: \n",
    "\n",
    "- Oferecer descontos baseados em produtos comprados anteriormente;\n",
    "- Criar promoções \"cobrindo\" as ofertas da concorrência."
   ]
  },
  {
   "cell_type": "markdown",
   "id": "e7b15098",
   "metadata": {},
   "source": [
    "### 6.4 Em Alerta"
   ]
  },
  {
   "cell_type": "markdown",
   "id": "813e5a7f",
   "metadata": {},
   "source": [
    "Esse pode ser considerado um grupo de clientes que compram eventualmente. \n",
    "\n",
    "Aqui, poderíamos adotar algumas estratégias semelhantes ao grupo anterior visando reativar o interesse desses clientes. "
   ]
  },
  {
   "cell_type": "markdown",
   "id": "0e697e92",
   "metadata": {},
   "source": [
    "### 6.5 Recuperar Importantes"
   ]
  },
  {
   "cell_type": "markdown",
   "id": "6ed2edb4",
   "metadata": {},
   "source": [
    "Nesse grupo, temos clientes que já compraram com muita frequência e que atualmente estão inativos.\n",
    "\n",
    "Devemos adotar estratégias visando recuperar esses clientes, como por exemplo: \n",
    "\n",
    "- Apresentar e oferecer novos produtos baseado no histórico de compras;\n",
    "- Investir em pesquisas de feedback para descobrir as principais causas do *churn*."
   ]
  },
  {
   "cell_type": "markdown",
   "id": "24564424",
   "metadata": {},
   "source": [
    "### 6.6 Recuperar Médios"
   ]
  },
  {
   "cell_type": "markdown",
   "id": "582e9849",
   "metadata": {},
   "source": [
    "Esse grupo se trata de clientes que compraram com menos frequência e que estão a muito tempo sem comprar.\n",
    "\n",
    "Semelhante ao ocorrido com o grupo anterior, devemos focar em reviver o interesse do cliente. \n",
    "\n",
    "- Oferecer produtos e descontos especiais;\n",
    "- Criar campanhas de alcance customizadas. "
   ]
  },
  {
   "cell_type": "markdown",
   "id": "fefa5a33",
   "metadata": {},
   "source": [
    "Agora, a BestShop já pode direcionar ações customizadas para cada grupo de clientes visando aumentar sua taxa de conversão! "
   ]
  }
 ],
 "metadata": {
  "kernelspec": {
   "display_name": "Python 3 (ipykernel)",
   "language": "python",
   "name": "python3"
  },
  "language_info": {
   "codemirror_mode": {
    "name": "ipython",
    "version": 3
   },
   "file_extension": ".py",
   "mimetype": "text/x-python",
   "name": "python",
   "nbconvert_exporter": "python",
   "pygments_lexer": "ipython3",
   "version": "3.9.12"
  }
 },
 "nbformat": 4,
 "nbformat_minor": 5
}
